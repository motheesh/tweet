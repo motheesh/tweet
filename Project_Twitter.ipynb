{
 "cells": [
  {
   "cell_type": "code",
   "execution_count": 1,
   "id": "b88a5e2c",
   "metadata": {},
   "outputs": [],
   "source": [
    "#Project : Auto video Creation\n",
    "\n",
    "##USECASE\n",
    "    #- get the most trending image links \n",
    "    #- get the most trending tags\n",
    "    #- download the images and convert it to video\n",
    "    #- Upload the video"
   ]
  },
  {
   "cell_type": "code",
   "execution_count": 1,
   "id": "3949d800",
   "metadata": {},
   "outputs": [
    {
     "name": "stderr",
     "output_type": "stream",
     "text": [
      "\n",
      "\n",
      "====== WebDriver manager ======\n",
      "Current google-chrome version is 94.0.4606\n",
      "Get LATEST driver version for 94.0.4606\n",
      "Driver [C:\\Users\\motheesh jay\\.wdm\\drivers\\chromedriver\\win32\\94.0.4606.61\\chromedriver.exe] found in cache\n"
     ]
    },
    {
     "name": "stdout",
     "output_type": "stream",
     "text": [
      "<selenium.webdriver.remote.webelement.WebElement (session=\"76d483a4b596539fefd96dbac69c0418\", element=\"240a4165-076f-4084-9d3d-e1b70401a4f3\")>\n",
      "318 622\n",
      "318 1039\n",
      "318 1456\n",
      "318 1853\n",
      "['screenshot/photo/trending1/Post0.png', 'screenshot/photo/trending1/Post1.png', 'screenshot/photo/trending1/Post2.png', 'screenshot/photo/trending1/Post3.png']\n",
      "Moviepy - Building video rough_work/movie/trending1.mp4.\n",
      "Moviepy - Writing video rough_work/movie/trending1.mp4\n",
      "\n"
     ]
    },
    {
     "name": "stderr",
     "output_type": "stream",
     "text": [
      "                                                                                                                       \r"
     ]
    },
    {
     "name": "stdout",
     "output_type": "stream",
     "text": [
      "Moviepy - Done !\n",
      "Moviepy - video ready rough_work/movie/trending1.mp4\n",
      "Moviepy - Building video Videos/trending1.mp4.\n",
      "MoviePy - Writing audio in trending1TEMP_MPY_wvf_snd.mp3\n"
     ]
    },
    {
     "name": "stderr",
     "output_type": "stream",
     "text": [
      "                                                                                                                       \r"
     ]
    },
    {
     "name": "stdout",
     "output_type": "stream",
     "text": [
      "MoviePy - Done.\n",
      "Moviepy - Writing video Videos/trending1.mp4\n",
      "\n"
     ]
    },
    {
     "name": "stderr",
     "output_type": "stream",
     "text": [
      "                                                                                                                       \r"
     ]
    },
    {
     "name": "stdout",
     "output_type": "stream",
     "text": [
      "Moviepy - Done !\n",
      "Moviepy - video ready Videos/trending1.mp4\n"
     ]
    }
   ],
   "source": [
    "from src.webScrapper import Load_and_save_TrendingVideos\n",
    "\n",
    "Load_and_save_TrendingVideos()"
   ]
  },
  {
   "cell_type": "code",
   "execution_count": 2,
   "id": "ffbb913c",
   "metadata": {},
   "outputs": [
    {
     "name": "stdout",
     "output_type": "stream",
     "text": [
      "#GandhiJayanti\n",
      "#BTSat2021TMA\n",
      "#नाथूराम_गोडसे_जिंदाबाद\n",
      "#2ndOctober\n",
      "#MIvDC\n"
     ]
    }
   ],
   "source": [
    "import re\n",
    "\n",
    "def striphtml(data):\n",
    "    p = re.compile(r'<.*?>')\n",
    "    return p.sub('', data)\n",
    "for i in tags:\n",
    "    print(striphtml(i))"
   ]
  },
  {
   "cell_type": "code",
   "execution_count": 13,
   "id": "a5cf46ca",
   "metadata": {},
   "outputs": [
    {
     "data": {
      "text/plain": [
       "{'title': 'Unauthorized',\n",
       " 'detail': 'Unauthorized',\n",
       " 'type': 'about:blank',\n",
       " 'status': 401}"
      ]
     },
     "execution_count": 13,
     "metadata": {},
     "output_type": "execute_result"
    }
   ],
   "source": [
    "import requests\n",
    "import json\n",
    "bearer_token = \"INSERT_BEARER_TOKEN\"\n",
    "url = \"https://api.twitter.com/2/tweets/search/recent?query=\"\n",
    "twitter_params = \"WednesdayMotivation\"\n",
    "url = url + twitter_params\n",
    "\n",
    "headers = {\"Authorization\": \"Bearer {}\".format(bearer_token)}\n",
    "response = requests.request(\"GET\", url, headers=headers)\n",
    "res_json = response.json()\n",
    "res_json"
   ]
  },
  {
   "cell_type": "code",
   "execution_count": 42,
   "id": "db6f55bf",
   "metadata": {},
   "outputs": [],
   "source": [
    "import PIL"
   ]
  },
  {
   "cell_type": "code",
   "execution_count": 9,
   "id": "680ceef2",
   "metadata": {},
   "outputs": [
    {
     "name": "stdout",
     "output_type": "stream",
     "text": [
      "['screenshot/Post0.png', 'screenshot/Post1.png', 'screenshot/Post2.png', 'screenshot/Post3.png', 'screenshot/Post4.png']\n",
      "Moviepy - Building video rough_work/movie/full.mp4.\n",
      "Moviepy - Writing video rough_work/movie/full.mp4\n",
      "\n"
     ]
    },
    {
     "name": "stderr",
     "output_type": "stream",
     "text": [
      "                                                                                                                       \r"
     ]
    },
    {
     "name": "stdout",
     "output_type": "stream",
     "text": [
      "Moviepy - Done !\n",
      "Moviepy - video ready rough_work/movie/full.mp4\n"
     ]
    }
   ],
   "source": [
    "from moviepy.editor import *\n",
    "def MakeMovieFromImage(folderPath,videoName):\n",
    "    image_folder=folderPath\n",
    "    fps=1\n",
    "    image_files = [image_folder+'/'+img for img in os.listdir(image_folder) if img.endswith(\".png\")]\n",
    "    print(image_files)\n",
    "    #clip = moviepy.video.io.ImageSequenceClip.ImageSequenceClip(image_files, fps=fps)\n",
    "    clips = [ImageClip(m).set_duration(2)\n",
    "      for m in image_files]\n",
    "    destination=f'rough_work/movie/{videoName}.mp4'\n",
    "    concat_clip = concatenate_videoclips(clips, method=\"compose\")\n",
    "    concat_clip.write_videofile(destination, fps=24)\n",
    "    \n",
    "    #clip.write_videofile(destination)\n",
    "    \n",
    "MakeMovieFromImage(\"screenshot\",\"full\")"
   ]
  },
  {
   "cell_type": "code",
   "execution_count": 17,
   "id": "530b19ad",
   "metadata": {},
   "outputs": [
    {
     "name": "stderr",
     "output_type": "stream",
     "text": [
      "                                                                                                                       \n",
      "t:   4%|██▊                                                                 | 10/240 [11:47<02:54,  1.32it/s, now=None]\n",
      "                                                                                                                       \u001b[A\n",
      "t:   4%|██▊                                                                 | 10/240 [11:48<02:54,  1.32it/s, now=None]\n",
      "t:   4%|██▊                                                                 | 10/240 [05:17<02:47,  1.37it/s, now=None]\u001b[A"
     ]
    },
    {
     "name": "stdout",
     "output_type": "stream",
     "text": [
      "Moviepy - Building video Videos/trending.mp4.\n",
      "MoviePy - Writing audio in trendingTEMP_MPY_wvf_snd.mp3\n"
     ]
    },
    {
     "name": "stderr",
     "output_type": "stream",
     "text": [
      "\n",
      "\n",
      "chunk:   0%|                                                                         | 0/221 [00:00<?, ?it/s, now=None]\u001b[A\u001b[A\n",
      "\n",
      "chunk:   1%|▌                                                                | 2/221 [00:01<02:06,  1.74it/s, now=None]\u001b[A\u001b[A\n",
      "\n",
      "chunk:  42%|██████████████████████████▏                                    | 92/221 [00:01<00:01, 100.71it/s, now=None]\u001b[A\u001b[A\n",
      "\n",
      "chunk:  85%|████████████████████████████████████████████████████▋         | 188/221 [00:01<00:00, 217.51it/s, now=None]\u001b[A\u001b[A\n",
      "\n",
      "                                                                                                                       \u001b[A\u001b[A\n",
      "t:   4%|██▊                                                                 | 10/240 [11:49<02:54,  1.32it/s, now=None]\n",
      "                                                                                                                       \u001b[A\n",
      "t:   4%|██▊                                                                 | 10/240 [11:49<02:54,  1.32it/s, now=None]\n",
      "t:   4%|██▊                                                                 | 10/240 [05:19<02:47,  1.37it/s, now=None]\u001b[A"
     ]
    },
    {
     "name": "stdout",
     "output_type": "stream",
     "text": [
      "MoviePy - Done.\n",
      "Moviepy - Writing video Videos/trending.mp4\n",
      "\n"
     ]
    },
    {
     "name": "stderr",
     "output_type": "stream",
     "text": [
      "\n",
      "\n",
      "t:   0%|                                                                             | 0/240 [00:00<?, ?it/s, now=None]\u001b[A\u001b[A\n",
      "\n",
      "t:   1%|▌                                                                    | 2/240 [00:01<02:01,  1.95it/s, now=None]\u001b[A\u001b[A\n",
      "\n",
      "t:  22%|██████████████▋                                                     | 52/240 [00:01<00:02, 62.81it/s, now=None]\u001b[A\u001b[A\n",
      "\n",
      "t:  36%|████████████████████████▎                                          | 87/240 [00:01<00:01, 105.34it/s, now=None]\u001b[A\u001b[A\n",
      "\n",
      "t:  55%|████████████████████████████████████▎                             | 132/240 [00:01<00:00, 165.36it/s, now=None]\u001b[A\u001b[A\n",
      "\n",
      "t:  74%|████████████████████████████████████████████████▉                 | 178/240 [00:01<00:00, 223.77it/s, now=None]\u001b[A\u001b[A\n",
      "\n",
      "t:  93%|█████████████████████████████████████████████████████████████▎    | 223/240 [00:01<00:00, 273.34it/s, now=None]\u001b[A\u001b[A\n",
      "\n",
      "                                                                                                                       \u001b[A\u001b[A\n",
      "t:   4%|██▊                                                                 | 10/240 [11:51<02:54,  1.32it/s, now=None]\n",
      "                                                                                                                       \u001b[A\n",
      "t:   4%|██▊                                                                 | 10/240 [11:51<02:54,  1.32it/s, now=None]\n",
      "t:   4%|██▊                                                                 | 10/240 [05:21<02:47,  1.37it/s, now=None]\u001b[A"
     ]
    },
    {
     "name": "stdout",
     "output_type": "stream",
     "text": [
      "Moviepy - Done !\n",
      "Moviepy - video ready Videos/trending.mp4\n"
     ]
    }
   ],
   "source": [
    "audio_path=r\"C:\\Users\\motheesh jay\\Documents\\data_science\\3_idiots\\twitter\\audio\\insult\\flowla-bad-words.mp3\"\n",
    "def addAudio(video_path,audio_path,video_name):\n",
    "    audio = mp.AudioFileClip(audio_path)\n",
    "    video1 = mp.VideoFileClip(video_path)\n",
    "    final = video1.set_audio(audio)\n",
    "    final.write_videofile(f\"Videos/{video_name}.mp4\",codec= 'mpeg4' ,audio_codec='libvorbis')\n",
    "video_path=r\"C:\\Users\\motheesh jay\\Documents\\data_science\\3_idiots\\twitter\\rough_work\\movie\\full.mp4\"\n",
    "\n",
    "def addAudio2(video_path,audio_path,video_name):\n",
    "    videoclip = VideoFileClip(video_path)\n",
    "    audioclip = AudioFileClip(audio_path)\n",
    "    new_audioclip = CompositeAudioClip([audioclip])\n",
    "    videoclip.audio = new_audioclip\n",
    "    videoclip.write_videofile(f\"Videos/{video_name}.mp4\")\n",
    "    \n",
    "    \n",
    "\n",
    "addAudio2(video_path,audio_path,\"trending\")"
   ]
  },
  {
   "cell_type": "code",
   "execution_count": 27,
   "id": "29a08ebd",
   "metadata": {},
   "outputs": [],
   "source": [
    "clearDirectory(edit_video_path) "
   ]
  },
  {
   "cell_type": "code",
   "execution_count": 5,
   "id": "86787e59",
   "metadata": {},
   "outputs": [
    {
     "name": "stdout",
     "output_type": "stream",
     "text": [
      "__main__\n"
     ]
    }
   ],
   "source": [
    "def testing():\n",
    "    print(__name__.)\n",
    "testing()"
   ]
  },
  {
   "cell_type": "code",
   "execution_count": null,
   "id": "40c487ee",
   "metadata": {},
   "outputs": [],
   "source": []
  }
 ],
 "metadata": {
  "kernelspec": {
   "display_name": "Python 3",
   "language": "python",
   "name": "python3"
  },
  "language_info": {
   "codemirror_mode": {
    "name": "ipython",
    "version": 3
   },
   "file_extension": ".py",
   "mimetype": "text/x-python",
   "name": "python",
   "nbconvert_exporter": "python",
   "pygments_lexer": "ipython3",
   "version": "3.8.8"
  }
 },
 "nbformat": 4,
 "nbformat_minor": 5
}
